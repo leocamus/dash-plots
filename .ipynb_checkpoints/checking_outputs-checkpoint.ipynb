{
 "cells": [
  {
   "cell_type": "code",
   "execution_count": 1,
   "metadata": {},
   "outputs": [],
   "source": [
    "import datetime"
   ]
  },
  {
   "cell_type": "code",
   "execution_count": 2,
   "metadata": {},
   "outputs": [],
   "source": [
    "import psycopg2"
   ]
  },
  {
   "cell_type": "code",
   "execution_count": 3,
   "metadata": {},
   "outputs": [],
   "source": [
    "test = [(datetime.datetime(2018, 11, 15, 0, 0, tzinfo=psycopg2.tz.FixedOffsetTimezone(offset=-180, name=None)),), (datetime.datetime(2018, 11, 5, 0, 0, tzinfo=psycopg2.tz.FixedOffsetTimezone(offset=-180, name=None)),), (datetime.datetime(2018, 11, 6, 0, 0, tzinfo=psycopg2.tz.FixedOffsetTimezone(offset=-180, name=None)),), (datetime.datetime(2018, 11, 7, 0, 0, tzinfo=psycopg2.tz.FixedOffsetTimezone(offset=-180, name=None)),), (datetime.datetime(2018, 11, 8, 0, 0, tzinfo=psycopg2.tz.FixedOffsetTimezone(offset=-180, name=None)),), (datetime.datetime(2018, 11, 18, 0, 0, tzinfo=psycopg2.tz.FixedOffsetTimezone(offset=-180, name=None)),), (datetime.datetime(2018, 11, 17, 0, 0, tzinfo=psycopg2.tz.FixedOffsetTimezone(offset=-180, name=None)),), (datetime.datetime(2018, 11, 14, 0, 0, tzinfo=psycopg2.tz.FixedOffsetTimezone(offset=-180, name=None)),), (datetime.datetime(2018, 10, 23, 0, 0, tzinfo=psycopg2.tz.FixedOffsetTimezone(offset=-180, name=None)),), (datetime.datetime(2018, 11, 1, 0, 0, tzinfo=psycopg2.tz.FixedOffsetTimezone(offset=-180, name=None)),), (datetime.datetime(2018, 11, 3, 0, 0, tzinfo=psycopg2.tz.FixedOffsetTimezone(offset=-180, name=None)),), (datetime.datetime(2018, 10, 31, 0, 0, tzinfo=psycopg2.tz.FixedOffsetTimezone(offset=-180, name=None)),), (datetime.datetime(2018, 10, 25, 0, 0, tzinfo=psycopg2.tz.FixedOffsetTimezone(offset=-180, name=None)),), (datetime.datetime(2018, 11, 20, 0, 0, tzinfo=psycopg2.tz.FixedOffsetTimezone(offset=-180, name=None)),), (datetime.datetime(2018, 11, 4, 0, 0, tzinfo=psycopg2.tz.FixedOffsetTimezone(offset=-180, name=None)),), (datetime.datetime(2018, 10, 29, 0, 0, tzinfo=psycopg2.tz.FixedOffsetTimezone(offset=-180, name=None)),), (datetime.datetime(2018, 10, 24, 0, 0, tzinfo=psycopg2.tz.FixedOffsetTimezone(offset=-180, name=None)),), (datetime.datetime(2018, 11, 10, 0, 0, tzinfo=psycopg2.tz.FixedOffsetTimezone(offset=-180, name=None)),), (datetime.datetime(2018, 10, 26, 0, 0, tzinfo=psycopg2.tz.FixedOffsetTimezone(offset=-180, name=None)),), (datetime.datetime(2018, 11, 16, 0, 0, tzinfo=psycopg2.tz.FixedOffsetTimezone(offset=-180, name=None)),), (datetime.datetime(2018, 11, 2, 0, 0, tzinfo=psycopg2.tz.FixedOffsetTimezone(offset=-180, name=None)),), (datetime.datetime(2018, 10, 30, 0, 0, tzinfo=psycopg2.tz.FixedOffsetTimezone(offset=-180, name=None)),), (datetime.datetime(2018, 11, 12, 0, 0, tzinfo=psycopg2.tz.FixedOffsetTimezone(offset=-180, name=None)),), (datetime.datetime(2018, 11, 11, 0, 0, tzinfo=psycopg2.tz.FixedOffsetTimezone(offset=-180, name=None)),), (datetime.datetime(2018, 11, 9, 0, 0, tzinfo=psycopg2.tz.FixedOffsetTimezone(offset=-180, name=None)),), (datetime.datetime(2018, 11, 19, 0, 0, tzinfo=psycopg2.tz.FixedOffsetTimezone(offset=-180, name=None)),), (datetime.datetime(2018, 11, 13, 0, 0, tzinfo=psycopg2.tz.FixedOffsetTimezone(offset=-180, name=None)),)]"
   ]
  },
  {
   "cell_type": "code",
   "execution_count": 4,
   "metadata": {},
   "outputs": [
    {
     "data": {
      "text/plain": [
       "(datetime.datetime(2018, 11, 15, 0, 0, tzinfo=psycopg2.tz.FixedOffsetTimezone(offset=-180, name=None)),)"
      ]
     },
     "execution_count": 4,
     "metadata": {},
     "output_type": "execute_result"
    }
   ],
   "source": [
    "test[0]"
   ]
  },
  {
   "cell_type": "code",
   "execution_count": 5,
   "metadata": {},
   "outputs": [
    {
     "data": {
      "text/plain": [
       "datetime.datetime(2018, 11, 15, 0, 0, tzinfo=psycopg2.tz.FixedOffsetTimezone(offset=-180, name=None))"
      ]
     },
     "execution_count": 5,
     "metadata": {},
     "output_type": "execute_result"
    }
   ],
   "source": [
    "test[0][0]"
   ]
  },
  {
   "cell_type": "code",
   "execution_count": 6,
   "metadata": {},
   "outputs": [
    {
     "data": {
      "text/plain": [
       "datetime.datetime"
      ]
     },
     "execution_count": 6,
     "metadata": {},
     "output_type": "execute_result"
    }
   ],
   "source": [
    "type(test[0][0])"
   ]
  },
  {
   "cell_type": "code",
   "execution_count": 11,
   "metadata": {},
   "outputs": [
    {
     "name": "stdout",
     "output_type": "stream",
     "text": [
      "2018-11-15 00:00:00-03:00\n",
      "2018-11-05 00:00:00-03:00\n",
      "2018-11-06 00:00:00-03:00\n",
      "2018-11-07 00:00:00-03:00\n",
      "2018-11-08 00:00:00-03:00\n",
      "2018-11-18 00:00:00-03:00\n",
      "2018-11-17 00:00:00-03:00\n",
      "2018-11-14 00:00:00-03:00\n",
      "2018-10-23 00:00:00-03:00\n",
      "2018-11-01 00:00:00-03:00\n",
      "2018-11-03 00:00:00-03:00\n",
      "2018-10-31 00:00:00-03:00\n",
      "2018-10-25 00:00:00-03:00\n",
      "2018-11-20 00:00:00-03:00\n",
      "2018-11-04 00:00:00-03:00\n",
      "2018-10-29 00:00:00-03:00\n",
      "2018-10-24 00:00:00-03:00\n",
      "2018-11-10 00:00:00-03:00\n",
      "2018-10-26 00:00:00-03:00\n",
      "2018-11-16 00:00:00-03:00\n",
      "2018-11-02 00:00:00-03:00\n",
      "2018-10-30 00:00:00-03:00\n",
      "2018-11-12 00:00:00-03:00\n",
      "2018-11-11 00:00:00-03:00\n",
      "2018-11-09 00:00:00-03:00\n",
      "2018-11-19 00:00:00-03:00\n",
      "2018-11-13 00:00:00-03:00\n"
     ]
    }
   ],
   "source": [
    "for i in test:\n",
    "    print(i[0])"
   ]
  },
  {
   "cell_type": "code",
   "execution_count": 22,
   "metadata": {},
   "outputs": [],
   "source": [
    "options = [{'label': i[0].strftime(\"%d-%m-%Y\"), 'value': i[0].strftime(\"%d-%m-%Y\")} for i in test]"
   ]
  },
  {
   "cell_type": "code",
   "execution_count": 23,
   "metadata": {},
   "outputs": [
    {
     "data": {
      "text/plain": [
       "[{'label': '15-11-2018', 'value': '15-11-2018'},\n",
       " {'label': '05-11-2018', 'value': '05-11-2018'},\n",
       " {'label': '06-11-2018', 'value': '06-11-2018'},\n",
       " {'label': '07-11-2018', 'value': '07-11-2018'},\n",
       " {'label': '08-11-2018', 'value': '08-11-2018'},\n",
       " {'label': '18-11-2018', 'value': '18-11-2018'},\n",
       " {'label': '17-11-2018', 'value': '17-11-2018'},\n",
       " {'label': '14-11-2018', 'value': '14-11-2018'},\n",
       " {'label': '23-10-2018', 'value': '23-10-2018'},\n",
       " {'label': '01-11-2018', 'value': '01-11-2018'},\n",
       " {'label': '03-11-2018', 'value': '03-11-2018'},\n",
       " {'label': '31-10-2018', 'value': '31-10-2018'},\n",
       " {'label': '25-10-2018', 'value': '25-10-2018'},\n",
       " {'label': '20-11-2018', 'value': '20-11-2018'},\n",
       " {'label': '04-11-2018', 'value': '04-11-2018'},\n",
       " {'label': '29-10-2018', 'value': '29-10-2018'},\n",
       " {'label': '24-10-2018', 'value': '24-10-2018'},\n",
       " {'label': '10-11-2018', 'value': '10-11-2018'},\n",
       " {'label': '26-10-2018', 'value': '26-10-2018'},\n",
       " {'label': '16-11-2018', 'value': '16-11-2018'},\n",
       " {'label': '02-11-2018', 'value': '02-11-2018'},\n",
       " {'label': '30-10-2018', 'value': '30-10-2018'},\n",
       " {'label': '12-11-2018', 'value': '12-11-2018'},\n",
       " {'label': '11-11-2018', 'value': '11-11-2018'},\n",
       " {'label': '09-11-2018', 'value': '09-11-2018'},\n",
       " {'label': '19-11-2018', 'value': '19-11-2018'},\n",
       " {'label': '13-11-2018', 'value': '13-11-2018'}]"
      ]
     },
     "execution_count": 23,
     "metadata": {},
     "output_type": "execute_result"
    }
   ],
   "source": [
    "options"
   ]
  },
  {
   "cell_type": "code",
   "execution_count": 15,
   "metadata": {},
   "outputs": [],
   "source": [
    "routes = [('TramoCDDNS1',), ('TramoCDDSN3',), ('TramoIraPO1',), ('TramoTresAntonioSN1',), ('TramoTresAntoniosSN2',), ('Sectra_Casa',), ('CasaNico-Sectra',), ('Av. Costanera Andres Bello Providencia',), ('TramoIraPO2',), ('TramoCDDNS2',), ('TramoCDDNS3',), ('TramoIraPO3',), ('TramoIraPO4',), ('TramoCDDNS4',), ('TramoMaculNS1',), ('TramoCDDSN2',), ('TramoMaculNS2',), ('TramoDubleAlmeyda1',), ('DubleAlmeyda1',), ('TramoMaculNS5',), ('DubleAlmeyda1.1',), ('TramoDubleAlmeyda2',), ('DubleAlmeyda1.2',), ('TramoDubleAlmeyda3',), ('DubleAlmeyda1.2.1',), ('TramoMaculSN1',), ('TramoMaculSN2',), ('DubleAlmeyda1.1ext',), ('TramoECV1',), ('TramoMaculSN3',), ('TramoECV2',), ('TramoPDVNS1',), ('TramoECV3',), ('TramoPDVNS2',), ('TramoPDVNS3',), ('TramoPDVNS4',), ('TramoIrarrazavalOP1',), ('TramoPDVSN1',), ('TramoPDVSN2',), ('TramoIrarrazavalOP2',), ('TramoPDVSN3',), ('TramoIrarrazavalOP3',), ('TramoCDDSN1',), ('TramoJseDomingoOP1',), ('TramoJseDomingoOP2',), ('TramoJseDomingoPO1',), ('TramoJseDomingoPO2',), ('TramoJseDomingoPO3',), ('TramoSuarezMOP1',), ('TramoMaculNS3',), ('TramoMaculNS4',), ('TramoABello1',), ('TramoABello2',), ('TramoABello3',), ('TramoABello5',), ('TramoABello4',), ('TramoABello6',), ('TramoABello7',), ('TramoABello8',), ('TramoABello9',)]"
   ]
  },
  {
   "cell_type": "code",
   "execution_count": 18,
   "metadata": {},
   "outputs": [
    {
     "data": {
      "text/plain": [
       "'TramoCDDNS1'"
      ]
     },
     "execution_count": 18,
     "metadata": {},
     "output_type": "execute_result"
    }
   ],
   "source": [
    "routes[0][0]"
   ]
  },
  {
   "cell_type": "code",
   "execution_count": null,
   "metadata": {},
   "outputs": [],
   "source": []
  }
 ],
 "metadata": {
  "kernelspec": {
   "display_name": "Python 3",
   "language": "python",
   "name": "python3"
  },
  "language_info": {
   "codemirror_mode": {
    "name": "ipython",
    "version": 3
   },
   "file_extension": ".py",
   "mimetype": "text/x-python",
   "name": "python",
   "nbconvert_exporter": "python",
   "pygments_lexer": "ipython3",
   "version": "3.7.0"
  }
 },
 "nbformat": 4,
 "nbformat_minor": 2
}
