{
 "cells": [
  {
   "cell_type": "markdown",
   "metadata": {},
   "source": [
    "### General analysis of november data"
   ]
  },
  {
   "cell_type": "code",
   "execution_count": 1,
   "metadata": {},
   "outputs": [],
   "source": [
    "from IPython.core.display import display, HTML\n",
    "display(HTML(\"<style>.container { width:90% !important; }</style>\"))"
   ]
  },
  {
   "cell_type": "code",
   "execution_count": 2,
   "metadata": {},
   "outputs": [],
   "source": [
    "import pandas as pd\n",
    "from retrieve_data import read_waze_data\n",
    "from utils import constants\n",
    "import os\n",
    "import datetime as dt\n",
    "import numpy as np"
   ]
  },
  {
   "cell_type": "code",
   "execution_count": 3,
   "metadata": {},
   "outputs": [],
   "source": [
    "[df_tt, df_r] = read_waze_data('21.11.2018')"
   ]
  },
  {
   "cell_type": "code",
   "execution_count": 4,
   "metadata": {},
   "outputs": [],
   "source": [
    "dict_dir = os.path.join(constants.waze_travel_times_dir, 'Dict/dicc-tramos-waze.xlsx')\n",
    "stretch_dict = pd.read_excel(dict_dir)"
   ]
  },
  {
   "cell_type": "code",
   "execution_count": 5,
   "metadata": {},
   "outputs": [],
   "source": [
    "#stretch_dict.head()"
   ]
  },
  {
   "cell_type": "code",
   "execution_count": 6,
   "metadata": {},
   "outputs": [],
   "source": [
    "#df_tt.head()"
   ]
  },
  {
   "cell_type": "code",
   "execution_count": 7,
   "metadata": {},
   "outputs": [],
   "source": [
    "def process_waze_data(df_tt, df_r):\n",
    "\n",
    "    df_tt['date'] = df_tt['updatetime'].dt.date\n",
    "    df_tt = df_tt.merge(df_r[['name', 'length']], on='name', how='left')\n",
    "    df_tt = df_tt.loc[df_tt['length'].isnull() == False, :]\n",
    "    df_tt['time/length[s/km]'] = (df_tt['time'] / (df_tt['length']))*1000\n",
    "    df_tt['length/time[km/h]'] = (df_tt['length'] / (df_tt['time']))*3.6\n",
    "\n",
    "    return df_tt"
   ]
  },
  {
   "cell_type": "code",
   "execution_count": 8,
   "metadata": {},
   "outputs": [],
   "source": [
    "df_tt = process_waze_data(df_tt, df_r)"
   ]
  },
  {
   "cell_type": "code",
   "execution_count": 9,
   "metadata": {},
   "outputs": [
    {
     "data": {
      "text/html": [
       "<div>\n",
       "<style scoped>\n",
       "    .dataframe tbody tr th:only-of-type {\n",
       "        vertical-align: middle;\n",
       "    }\n",
       "\n",
       "    .dataframe tbody tr th {\n",
       "        vertical-align: top;\n",
       "    }\n",
       "\n",
       "    .dataframe thead th {\n",
       "        text-align: right;\n",
       "    }\n",
       "</style>\n",
       "<table border=\"1\" class=\"dataframe\">\n",
       "  <thead>\n",
       "    <tr style=\"text-align: right;\">\n",
       "      <th></th>\n",
       "      <th>name</th>\n",
       "      <th>time</th>\n",
       "      <th>historictime</th>\n",
       "      <th>jamlevel</th>\n",
       "      <th>updatetime</th>\n",
       "      <th>jams</th>\n",
       "      <th>alerts</th>\n",
       "      <th>date</th>\n",
       "      <th>length</th>\n",
       "      <th>time/length[s/km]</th>\n",
       "      <th>length/time[km/h]</th>\n",
       "    </tr>\n",
       "  </thead>\n",
       "  <tbody>\n",
       "    <tr>\n",
       "      <th>0</th>\n",
       "      <td>TramoCDDNS1</td>\n",
       "      <td>146</td>\n",
       "      <td>137</td>\n",
       "      <td>2</td>\n",
       "      <td>2018-10-23 14:50:45</td>\n",
       "      <td>{}</td>\n",
       "      <td>{}</td>\n",
       "      <td>2018-10-23</td>\n",
       "      <td>501</td>\n",
       "      <td>291.417166</td>\n",
       "      <td>12.353425</td>\n",
       "    </tr>\n",
       "    <tr>\n",
       "      <th>1</th>\n",
       "      <td>TramoCDDSN3</td>\n",
       "      <td>154</td>\n",
       "      <td>163</td>\n",
       "      <td>2</td>\n",
       "      <td>2018-10-23 14:50:45</td>\n",
       "      <td>{}</td>\n",
       "      <td>{}</td>\n",
       "      <td>2018-10-23</td>\n",
       "      <td>456</td>\n",
       "      <td>337.719298</td>\n",
       "      <td>10.659740</td>\n",
       "    </tr>\n",
       "    <tr>\n",
       "      <th>2</th>\n",
       "      <td>TramoIraPO1</td>\n",
       "      <td>77</td>\n",
       "      <td>88</td>\n",
       "      <td>1</td>\n",
       "      <td>2018-10-23 14:50:45</td>\n",
       "      <td>{}</td>\n",
       "      <td>{}</td>\n",
       "      <td>2018-10-23</td>\n",
       "      <td>326</td>\n",
       "      <td>236.196319</td>\n",
       "      <td>15.241558</td>\n",
       "    </tr>\n",
       "    <tr>\n",
       "      <th>3</th>\n",
       "      <td>TramoTresAntonioSN1</td>\n",
       "      <td>50</td>\n",
       "      <td>74</td>\n",
       "      <td>0</td>\n",
       "      <td>2018-10-23 14:50:45</td>\n",
       "      <td>{}</td>\n",
       "      <td>{}</td>\n",
       "      <td>2018-10-23</td>\n",
       "      <td>498</td>\n",
       "      <td>100.401606</td>\n",
       "      <td>35.856000</td>\n",
       "    </tr>\n",
       "    <tr>\n",
       "      <th>4</th>\n",
       "      <td>TramoTresAntoniosSN2</td>\n",
       "      <td>161</td>\n",
       "      <td>173</td>\n",
       "      <td>0</td>\n",
       "      <td>2018-10-23 14:50:45</td>\n",
       "      <td>{}</td>\n",
       "      <td>{}</td>\n",
       "      <td>2018-10-23</td>\n",
       "      <td>668</td>\n",
       "      <td>241.017964</td>\n",
       "      <td>14.936646</td>\n",
       "    </tr>\n",
       "  </tbody>\n",
       "</table>\n",
       "</div>"
      ],
      "text/plain": [
       "                   name  time  historictime  jamlevel          updatetime  \\\n",
       "0           TramoCDDNS1   146           137         2 2018-10-23 14:50:45   \n",
       "1           TramoCDDSN3   154           163         2 2018-10-23 14:50:45   \n",
       "2           TramoIraPO1    77            88         1 2018-10-23 14:50:45   \n",
       "3   TramoTresAntonioSN1    50            74         0 2018-10-23 14:50:45   \n",
       "4  TramoTresAntoniosSN2   161           173         0 2018-10-23 14:50:45   \n",
       "\n",
       "  jams alerts        date  length  time/length[s/km]  length/time[km/h]  \n",
       "0   {}     {}  2018-10-23     501         291.417166          12.353425  \n",
       "1   {}     {}  2018-10-23     456         337.719298          10.659740  \n",
       "2   {}     {}  2018-10-23     326         236.196319          15.241558  \n",
       "3   {}     {}  2018-10-23     498         100.401606          35.856000  \n",
       "4   {}     {}  2018-10-23     668         241.017964          14.936646  "
      ]
     },
     "execution_count": 9,
     "metadata": {},
     "output_type": "execute_result"
    }
   ],
   "source": [
    "df_tt.head()"
   ]
  },
  {
   "cell_type": "markdown",
   "metadata": {},
   "source": [
    "Select the dates"
   ]
  },
  {
   "cell_type": "code",
   "execution_count": 10,
   "metadata": {},
   "outputs": [],
   "source": [
    "start_date = dt.date(2018, 11, 5)\n",
    "except_7_nov = dt.date(2018,11,7) #energy cut-off\n",
    "except_12_nov = dt.date(2018,11,12) #hail storm\n",
    "end_date = dt.date(2018, 11, 18)"
   ]
  },
  {
   "cell_type": "code",
   "execution_count": 11,
   "metadata": {},
   "outputs": [
    {
     "name": "stdout",
     "output_type": "stream",
     "text": [
      "200604\n"
     ]
    }
   ],
   "source": [
    "mask = (df_tt['date'] >= start_date) & (df_tt['date'] <= end_date) & (df_tt['date'] != except_7_nov) & (df_tt['date'] != except_12_nov)\n",
    "nov_df = df_tt.loc[mask]\n",
    "print(len(nov_df.index))"
   ]
  },
  {
   "cell_type": "code",
   "execution_count": 12,
   "metadata": {},
   "outputs": [],
   "source": [
    "include_24_oct = dt.date(2018,10,24)\n",
    "include_19_nov = dt.date(2018,11,19)"
   ]
  },
  {
   "cell_type": "code",
   "execution_count": 13,
   "metadata": {},
   "outputs": [
    {
     "name": "stdout",
     "output_type": "stream",
     "text": [
      "31392\n"
     ]
    }
   ],
   "source": [
    "include_mask = (df_tt['date'] == include_24_oct) | (df_tt['date'] == include_19_nov)\n",
    "replacing_df = df_tt.loc[include_mask]\n",
    "print(len(replacing_df.index))"
   ]
  },
  {
   "cell_type": "code",
   "execution_count": 14,
   "metadata": {},
   "outputs": [
    {
     "name": "stdout",
     "output_type": "stream",
     "text": [
      "231996\n"
     ]
    }
   ],
   "source": [
    "analyze_df = pd.concat([nov_df,replacing_df])\n",
    "print(len(analyze_df.index))"
   ]
  },
  {
   "cell_type": "code",
   "execution_count": 15,
   "metadata": {},
   "outputs": [],
   "source": [
    "def day_type(x):\n",
    "    if (0<=x.weekday()<5):\n",
    "        return 'L'\n",
    "    elif (x.weekday()==5):\n",
    "        return 'S'\n",
    "    elif (x.weekday()==6):\n",
    "        return 'D'"
   ]
  },
  {
   "cell_type": "code",
   "execution_count": 16,
   "metadata": {},
   "outputs": [],
   "source": [
    "analyze_df['day'] = analyze_df['date'].apply(day_type)\n",
    "analyze_df.sort_values(by=['updatetime'], inplace = True)\n",
    "analyze_df['updatetime_tmp'] = analyze_df['updatetime'].apply(lambda x: x.replace(month=1,day=1)) #ugly"
   ]
  },
  {
   "cell_type": "code",
   "execution_count": 17,
   "metadata": {},
   "outputs": [],
   "source": [
    "#analyze_df.head()"
   ]
  },
  {
   "cell_type": "code",
   "execution_count": 18,
   "metadata": {},
   "outputs": [],
   "source": [
    "grouped_df_tt = analyze_df.groupby(['name', 'length', 'day', pd.Grouper(freq='15min', key='updatetime_tmp')])['time/length[s/km]','length/time[km/h]'].mean()\n",
    "grouped_df_tt.reset_index(inplace=True)\n",
    "grouped_df_tt['time'] = grouped_df_tt['updatetime_tmp'].dt.time"
   ]
  },
  {
   "cell_type": "markdown",
   "metadata": {},
   "source": [
    "A simple test"
   ]
  },
  {
   "cell_type": "code",
   "execution_count": 19,
   "metadata": {},
   "outputs": [],
   "source": [
    "type_of_days = 3\n",
    "unique_sections = len(grouped_df_tt['name'].unique())\n",
    "n_time_windows = 24*60/15"
   ]
  },
  {
   "cell_type": "code",
   "execution_count": 20,
   "metadata": {
    "scrolled": true
   },
   "outputs": [
    {
     "data": {
      "text/plain": [
       "True"
      ]
     },
     "execution_count": 20,
     "metadata": {},
     "output_type": "execute_result"
    }
   ],
   "source": [
    "len(grouped_df_tt.index) == type_of_days * unique_sections * n_time_windows"
   ]
  },
  {
   "cell_type": "markdown",
   "metadata": {},
   "source": [
    "Some other things"
   ]
  },
  {
   "cell_type": "code",
   "execution_count": 21,
   "metadata": {},
   "outputs": [],
   "source": [
    "grouped_df_tt.drop(columns = 'updatetime_tmp', inplace=True)"
   ]
  },
  {
   "cell_type": "code",
   "execution_count": 22,
   "metadata": {},
   "outputs": [],
   "source": [
    "grouped_df_tt['end_time'] = grouped_df_tt['time'].shift(-1)"
   ]
  },
  {
   "cell_type": "code",
   "execution_count": 23,
   "metadata": {},
   "outputs": [],
   "source": [
    "#grouped_df_tt.tail()"
   ]
  },
  {
   "cell_type": "code",
   "execution_count": 24,
   "metadata": {},
   "outputs": [],
   "source": [
    "general_file = os.path.join(constants.travel_times_dir,'analysis/mean_travel_times.csv')"
   ]
  },
  {
   "cell_type": "code",
   "execution_count": 25,
   "metadata": {},
   "outputs": [],
   "source": [
    "grouped_df_tt.to_csv(general_file, sep=';')"
   ]
  },
  {
   "cell_type": "markdown",
   "metadata": {},
   "source": [
    "Some personalization"
   ]
  },
  {
   "cell_type": "code",
   "execution_count": 26,
   "metadata": {},
   "outputs": [],
   "source": [
    "routes_excluded = stretch_dict.loc[(stretch_dict['project'] == 'reversibilidad andrés bello')\n",
    "                                   | (stretch_dict['project'] == 'test traffic'),'name'].unique().tolist()"
   ]
  },
  {
   "cell_type": "code",
   "execution_count": 27,
   "metadata": {},
   "outputs": [],
   "source": [
    "grouped_df_tt = grouped_df_tt[~grouped_df_tt['name'].isin(routes_excluded)]\n",
    "grouped_df_tt = grouped_df_tt.merge(stretch_dict[['name','main street','sense','eje_csch','tramo_csch']], on='name', how='left')\n",
    "grouped_df_tt = grouped_df_tt.loc[(grouped_df_tt['time']>=dt.time(7,0,0))&(grouped_df_tt['time']<=dt.time(21,45,0)),:]\n",
    "grouped_df_tt.drop(columns = 'length/time[km/h]', inplace=True)"
   ]
  },
  {
   "cell_type": "markdown",
   "metadata": {},
   "source": [
    "Get the only-car stretch and adding some information"
   ]
  },
  {
   "cell_type": "code",
   "execution_count": 28,
   "metadata": {},
   "outputs": [],
   "source": [
    "only_car_stretchs = grouped_df_tt.loc[grouped_df_tt['eje_csch'].isnull(),'name'].unique()"
   ]
  },
  {
   "cell_type": "code",
   "execution_count": 29,
   "metadata": {},
   "outputs": [],
   "source": [
    "def changing_line(x):\n",
    "    x = x.replace(\"[\",\"\")\n",
    "    x = x.replace(\"]\",\"\")\n",
    "    x = x.replace(\"(\",\"\")\n",
    "    x = x.replace(\")\",\"\")\n",
    "    return pd.Series(x.split(\",\"))"
   ]
  },
  {
   "cell_type": "code",
   "execution_count": 30,
   "metadata": {},
   "outputs": [],
   "source": [
    "only_car = []\n",
    "for stretch in only_car_stretchs:\n",
    "    line = df_r.loc[df_r['name']==stretch, 'line'].apply(changing_line)\n",
    "\n",
    "    line.columns = [np.arange(len(line.columns)) % 2, np.arange(len(line.columns)) // 2]\n",
    "    line = line.stack().reset_index(drop=True)\n",
    "    line.columns = ['lon','lat']\n",
    "\n",
    "    lat = line.loc[:,'lat'].tolist()\n",
    "    lon = line.loc[:,'lon'].tolist()\n",
    "    \n",
    "    only_car.append({'Nombre Big Data': stretch, 'lat_inicio': lat[0], 'lon_inicio': lon[0], 'lat_fin': lat[-1], 'lon_fin': lon[-1]})\n",
    "    \n",
    "only_car_df = pd.DataFrame(only_car)"
   ]
  },
  {
   "cell_type": "code",
   "execution_count": 31,
   "metadata": {},
   "outputs": [],
   "source": [
    "columns_names = {'name': 'Nombre Big Data', 'length': 'Largo [m]', 'day': 'Día', \n",
    "           'time/length[s/km]': 'Tiempo Medio [s/km]', 'time':'Inicio', 'end_time': 'Fin', 'main street': 'Eje',\n",
    "           'sense': 'Sentido', 'eje_csch': 'Nombre Camila', 'tramo_csch': 'Tramo GPS Camila'}\n",
    "\n",
    "grouped_df_tt.rename(columns = columns_names, inplace=True)"
   ]
  },
  {
   "cell_type": "code",
   "execution_count": 32,
   "metadata": {},
   "outputs": [],
   "source": [
    "jgibson_tt_path = os.path.join(constants.travel_times_dir,'analysis/tiempos_medios.xlsx')\n",
    "jgibson_only_car_path = os.path.join(constants.travel_times_dir,'analysis/tramos_solo_autos.xlsx')"
   ]
  },
  {
   "cell_type": "code",
   "execution_count": 33,
   "metadata": {},
   "outputs": [],
   "source": [
    "grouped_df_tt.to_excel(jgibson_tt_path, index=False)\n",
    "only_car_df.to_excel(jgibson_only_car_path, index=False)"
   ]
  }
 ],
 "metadata": {
  "kernelspec": {
   "display_name": "Python 3",
   "language": "python",
   "name": "python3"
  },
  "language_info": {
   "codemirror_mode": {
    "name": "ipython",
    "version": 3
   },
   "file_extension": ".py",
   "mimetype": "text/x-python",
   "name": "python",
   "nbconvert_exporter": "python",
   "pygments_lexer": "ipython3",
   "version": "3.7.0"
  }
 },
 "nbformat": 4,
 "nbformat_minor": 2
}
