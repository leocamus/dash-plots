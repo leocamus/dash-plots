{
 "cells": [
  {
   "cell_type": "markdown",
   "metadata": {},
   "source": [
    "### General analysis of november data"
   ]
  },
  {
   "cell_type": "code",
   "execution_count": 1,
   "metadata": {},
   "outputs": [
    {
     "data": {
      "text/html": [
       "<style>.container { width:90% !important; }</style>"
      ],
      "text/plain": [
       "<IPython.core.display.HTML object>"
      ]
     },
     "metadata": {},
     "output_type": "display_data"
    }
   ],
   "source": [
    "from IPython.core.display import display, HTML\n",
    "display(HTML(\"<style>.container { width:90% !important; }</style>\"))"
   ]
  },
  {
   "cell_type": "code",
   "execution_count": 2,
   "metadata": {},
   "outputs": [],
   "source": [
    "import pandas as pd\n",
    "from retrieve_data import read_waze_data\n",
    "import os\n",
    "import datetime as dt"
   ]
  },
  {
   "cell_type": "code",
   "execution_count": 3,
   "metadata": {},
   "outputs": [],
   "source": [
    "[df_tt, df_r] = read_waze_data('21.11.2018')"
   ]
  },
  {
   "cell_type": "code",
   "execution_count": 4,
   "metadata": {},
   "outputs": [],
   "source": [
    "#df_tt.head()"
   ]
  },
  {
   "cell_type": "code",
   "execution_count": 5,
   "metadata": {},
   "outputs": [],
   "source": [
    "def process_waze_data(df_tt, df_r):\n",
    "\n",
    "    df_tt['date'] = df_tt['updatetime'].dt.date\n",
    "    df_tt = df_tt.merge(df_r[['name', 'length']], on='name', how='left')\n",
    "    df_tt = df_tt.loc[df_tt['length'].isnull() == False, :]\n",
    "    df_tt['time/length[s/km]'] = (df_tt['time'] / (df_tt['length']))*1000\n",
    "    df_tt['length/time[km/h]'] = (df_tt['length'] / (df_tt['time']))*3.6\n",
    "\n",
    "    return df_tt"
   ]
  },
  {
   "cell_type": "code",
   "execution_count": 6,
   "metadata": {},
   "outputs": [],
   "source": [
    "df_tt = process_waze_data(df_tt, df_r)"
   ]
  },
  {
   "cell_type": "code",
   "execution_count": 7,
   "metadata": {},
   "outputs": [],
   "source": [
    "#df_tt.head()"
   ]
  },
  {
   "cell_type": "markdown",
   "metadata": {},
   "source": [
    "Select the dates"
   ]
  },
  {
   "cell_type": "code",
   "execution_count": 8,
   "metadata": {},
   "outputs": [],
   "source": [
    "start_date = dt.date(2018, 11, 5)\n",
    "except_7_nov = dt.date(2018,11,7) #energy cut-off\n",
    "except_12_nov = dt.date(2018,11,12) #hail storm\n",
    "end_date = dt.date(2018, 11, 18)"
   ]
  },
  {
   "cell_type": "code",
   "execution_count": 9,
   "metadata": {},
   "outputs": [
    {
     "name": "stdout",
     "output_type": "stream",
     "text": [
      "200604\n"
     ]
    }
   ],
   "source": [
    "mask = (df_tt['date'] >= start_date) & (df_tt['date'] <= end_date) & (df_tt['date'] != except_7_nov) & (df_tt['date'] != except_12_nov)\n",
    "nov_df = df_tt.loc[mask]\n",
    "print(len(nov_df.index))"
   ]
  },
  {
   "cell_type": "code",
   "execution_count": 10,
   "metadata": {},
   "outputs": [],
   "source": [
    "include_24_oct = dt.date(2018,10,24)\n",
    "include_19_nov = dt.date(2018,11,19)"
   ]
  },
  {
   "cell_type": "code",
   "execution_count": 11,
   "metadata": {},
   "outputs": [
    {
     "name": "stdout",
     "output_type": "stream",
     "text": [
      "31392\n"
     ]
    }
   ],
   "source": [
    "include_mask = (df_tt['date'] == include_24_oct) | (df_tt['date'] == include_19_nov)\n",
    "replacing_df = df_tt.loc[include_mask]\n",
    "print(len(replacing_df.index))"
   ]
  },
  {
   "cell_type": "code",
   "execution_count": 12,
   "metadata": {},
   "outputs": [
    {
     "name": "stdout",
     "output_type": "stream",
     "text": [
      "231996\n"
     ]
    }
   ],
   "source": [
    "analyze_df = pd.concat([nov_df,replacing_df])\n",
    "print(len(analyze_df.index))"
   ]
  },
  {
   "cell_type": "code",
   "execution_count": 13,
   "metadata": {},
   "outputs": [],
   "source": [
    "def day_type(x):\n",
    "    if (0<=x.weekday()<5):\n",
    "        return 'L'\n",
    "    elif (x.weekday()==5):\n",
    "        return 'S'\n",
    "    elif (x.weekday()==6):\n",
    "        return 'D'"
   ]
  },
  {
   "cell_type": "code",
   "execution_count": 14,
   "metadata": {},
   "outputs": [],
   "source": [
    "analyze_df['day'] = analyze_df['date'].apply(day_type)\n",
    "analyze_df.sort_values(by=['updatetime'], inplace = True)\n",
    "analyze_df['updatetime_tmp'] = analyze_df['updatetime'].apply(lambda x: x.replace(month=1,day=1)) #ugly"
   ]
  },
  {
   "cell_type": "code",
   "execution_count": 15,
   "metadata": {},
   "outputs": [],
   "source": [
    "#analyze_df.head()"
   ]
  },
  {
   "cell_type": "code",
   "execution_count": 16,
   "metadata": {},
   "outputs": [],
   "source": [
    "grouped_df_tt = analyze_df.groupby(['name', 'length', 'day', pd.Grouper(freq='15min', key='updatetime_tmp')])['time/length[s/km]','length/time[km/h]'].mean()\n",
    "grouped_df_tt.reset_index(inplace=True)\n",
    "grouped_df_tt['time'] = grouped_df_tt['updatetime_tmp'].dt.time"
   ]
  },
  {
   "cell_type": "markdown",
   "metadata": {},
   "source": [
    "A simple test"
   ]
  },
  {
   "cell_type": "code",
   "execution_count": 17,
   "metadata": {},
   "outputs": [],
   "source": [
    "type_of_days = 3\n",
    "unique_sections = len(grouped_df_tt['name'].unique())\n",
    "n_time_windows = 24*60/15"
   ]
  },
  {
   "cell_type": "code",
   "execution_count": 18,
   "metadata": {
    "scrolled": true
   },
   "outputs": [
    {
     "data": {
      "text/plain": [
       "True"
      ]
     },
     "execution_count": 18,
     "metadata": {},
     "output_type": "execute_result"
    }
   ],
   "source": [
    "len(grouped_df_tt.index) == type_of_days * unique_sections * n_time_windows"
   ]
  },
  {
   "cell_type": "markdown",
   "metadata": {},
   "source": [
    "Some other things"
   ]
  },
  {
   "cell_type": "code",
   "execution_count": 19,
   "metadata": {},
   "outputs": [],
   "source": [
    "grouped_df_tt.drop(columns = 'updatetime_tmp', inplace=True)"
   ]
  },
  {
   "cell_type": "code",
   "execution_count": 20,
   "metadata": {},
   "outputs": [],
   "source": [
    "grouped_df_tt['end_time'] = grouped_df_tt['time'].shift(-1)"
   ]
  },
  {
   "cell_type": "code",
   "execution_count": 21,
   "metadata": {},
   "outputs": [],
   "source": [
    "#grouped_df_tt.tail()"
   ]
  },
  {
   "cell_type": "code",
   "execution_count": 22,
   "metadata": {},
   "outputs": [],
   "source": [
    "from utils import constants"
   ]
  },
  {
   "cell_type": "code",
   "execution_count": 23,
   "metadata": {},
   "outputs": [],
   "source": [
    "travel_times_dir = constants.travel_times_dir"
   ]
  },
  {
   "cell_type": "code",
   "execution_count": 24,
   "metadata": {},
   "outputs": [],
   "source": [
    "jgibson_path = os.path.join(travel_times_dir,'analysis/mean_travel_times.csv')"
   ]
  },
  {
   "cell_type": "code",
   "execution_count": 25,
   "metadata": {},
   "outputs": [],
   "source": [
    "grouped_df_tt.to_csv(jgibson_path, sep=';')"
   ]
  }
 ],
 "metadata": {
  "kernelspec": {
   "display_name": "Python 3",
   "language": "python",
   "name": "python3"
  },
  "language_info": {
   "codemirror_mode": {
    "name": "ipython",
    "version": 3
   },
   "file_extension": ".py",
   "mimetype": "text/x-python",
   "name": "python",
   "nbconvert_exporter": "python",
   "pygments_lexer": "ipython3",
   "version": "3.7.0"
  }
 },
 "nbformat": 4,
 "nbformat_minor": 2
}
