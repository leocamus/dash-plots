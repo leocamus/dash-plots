{
 "cells": [
  {
   "cell_type": "markdown",
   "metadata": {},
   "source": [
    "### Just learning how to use folium"
   ]
  },
  {
   "cell_type": "code",
   "execution_count": 1,
   "metadata": {},
   "outputs": [],
   "source": [
    "import folium"
   ]
  },
  {
   "cell_type": "code",
   "execution_count": 2,
   "metadata": {},
   "outputs": [],
   "source": [
    "SCL_COORDINATES = (-33.4574,-70.6029)"
   ]
  },
  {
   "cell_type": "code",
   "execution_count": 3,
   "metadata": {},
   "outputs": [],
   "source": [
    "scl_map = folium.Map(location = SCL_COORDINATES, tiles = 'Stamen Toner', zoom_start = 15)"
   ]
  },
  {
   "cell_type": "code",
   "execution_count": 4,
   "metadata": {},
   "outputs": [
    {
     "data": {
      "text/html": [
       "<div style=\"width:100%;\"><div style=\"position:relative;width:100%;height:0;padding-bottom:60%;\"><iframe src=\"data:text/html;charset=utf-8;base64,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\" style=\"position:absolute;width:100%;height:100%;left:0;top:0;border:none !important;\" allowfullscreen webkitallowfullscreen mozallowfullscreen></iframe></div></div>"
      ],
      "text/plain": [
       "<folium.folium.Map at 0x36456f0>"
      ]
     },
     "execution_count": 4,
     "metadata": {},
     "output_type": "execute_result"
    }
   ],
   "source": [
    "scl_map"
   ]
  },
  {
   "cell_type": "code",
   "execution_count": 5,
   "metadata": {},
   "outputs": [],
   "source": [
    "import os"
   ]
  },
  {
   "cell_type": "code",
   "execution_count": 27,
   "metadata": {},
   "outputs": [],
   "source": [
    "import pandas as pd"
   ]
  },
  {
   "cell_type": "code",
   "execution_count": 114,
   "metadata": {},
   "outputs": [],
   "source": [
    "import numpy as np"
   ]
  },
  {
   "cell_type": "code",
   "execution_count": 6,
   "metadata": {},
   "outputs": [],
   "source": [
    "from utils import constants"
   ]
  },
  {
   "cell_type": "code",
   "execution_count": 7,
   "metadata": {},
   "outputs": [],
   "source": [
    "travel_times_dir = constants.travel_times_dir"
   ]
  },
  {
   "cell_type": "code",
   "execution_count": 8,
   "metadata": {},
   "outputs": [],
   "source": [
    "scl_map_dir = os.path.join(travel_times_dir, 'maps/test.html')"
   ]
  },
  {
   "cell_type": "code",
   "execution_count": 9,
   "metadata": {},
   "outputs": [],
   "source": [
    "scl_map.save(scl_map_dir)"
   ]
  },
  {
   "cell_type": "code",
   "execution_count": 10,
   "metadata": {},
   "outputs": [],
   "source": [
    "import retrieve_data"
   ]
  },
  {
   "cell_type": "code",
   "execution_count": 11,
   "metadata": {},
   "outputs": [],
   "source": [
    "[grouped_df_tt_w, grouped_df_tt_g, df_r_w] = retrieve_data.assemble_data('13.11.2018', '24.10.2018', '25.10.2018')"
   ]
  },
  {
   "cell_type": "code",
   "execution_count": 13,
   "metadata": {},
   "outputs": [
    {
     "data": {
      "text/html": [
       "<div>\n",
       "<style scoped>\n",
       "    .dataframe tbody tr th:only-of-type {\n",
       "        vertical-align: middle;\n",
       "    }\n",
       "\n",
       "    .dataframe tbody tr th {\n",
       "        vertical-align: top;\n",
       "    }\n",
       "\n",
       "    .dataframe thead th {\n",
       "        text-align: right;\n",
       "    }\n",
       "</style>\n",
       "<table border=\"1\" class=\"dataframe\">\n",
       "  <thead>\n",
       "    <tr style=\"text-align: right;\">\n",
       "      <th></th>\n",
       "      <th>name</th>\n",
       "      <th>updatetime</th>\n",
       "      <th>time/length</th>\n",
       "      <th>date</th>\n",
       "      <th>time</th>\n",
       "    </tr>\n",
       "  </thead>\n",
       "  <tbody>\n",
       "    <tr>\n",
       "      <th>92120</th>\n",
       "      <td>TramoTresAntoniosSN2</td>\n",
       "      <td>2018-11-13 14:30:00</td>\n",
       "      <td>279.565868</td>\n",
       "      <td>2018-11-13</td>\n",
       "      <td>14:30:00</td>\n",
       "    </tr>\n",
       "    <tr>\n",
       "      <th>92121</th>\n",
       "      <td>TramoTresAntoniosSN2</td>\n",
       "      <td>2018-11-13 14:45:00</td>\n",
       "      <td>267.465070</td>\n",
       "      <td>2018-11-13</td>\n",
       "      <td>14:45:00</td>\n",
       "    </tr>\n",
       "    <tr>\n",
       "      <th>92122</th>\n",
       "      <td>TramoTresAntoniosSN2</td>\n",
       "      <td>2018-11-13 15:00:00</td>\n",
       "      <td>276.197605</td>\n",
       "      <td>2018-11-13</td>\n",
       "      <td>15:00:00</td>\n",
       "    </tr>\n",
       "    <tr>\n",
       "      <th>92123</th>\n",
       "      <td>TramoTresAntoniosSN2</td>\n",
       "      <td>2018-11-13 15:15:00</td>\n",
       "      <td>298.652695</td>\n",
       "      <td>2018-11-13</td>\n",
       "      <td>15:15:00</td>\n",
       "    </tr>\n",
       "    <tr>\n",
       "      <th>92124</th>\n",
       "      <td>TramoTresAntoniosSN2</td>\n",
       "      <td>2018-11-13 15:30:00</td>\n",
       "      <td>330.838323</td>\n",
       "      <td>2018-11-13</td>\n",
       "      <td>15:30:00</td>\n",
       "    </tr>\n",
       "  </tbody>\n",
       "</table>\n",
       "</div>"
      ],
      "text/plain": [
       "                       name          updatetime  time/length        date  \\\n",
       "92120  TramoTresAntoniosSN2 2018-11-13 14:30:00   279.565868  2018-11-13   \n",
       "92121  TramoTresAntoniosSN2 2018-11-13 14:45:00   267.465070  2018-11-13   \n",
       "92122  TramoTresAntoniosSN2 2018-11-13 15:00:00   276.197605  2018-11-13   \n",
       "92123  TramoTresAntoniosSN2 2018-11-13 15:15:00   298.652695  2018-11-13   \n",
       "92124  TramoTresAntoniosSN2 2018-11-13 15:30:00   330.838323  2018-11-13   \n",
       "\n",
       "           time  \n",
       "92120  14:30:00  \n",
       "92121  14:45:00  \n",
       "92122  15:00:00  \n",
       "92123  15:15:00  \n",
       "92124  15:30:00  "
      ]
     },
     "execution_count": 13,
     "metadata": {},
     "output_type": "execute_result"
    }
   ],
   "source": [
    "grouped_df_tt_w.tail()"
   ]
  },
  {
   "cell_type": "code",
   "execution_count": 66,
   "metadata": {},
   "outputs": [
    {
     "data": {
      "text/html": [
       "<div>\n",
       "<style scoped>\n",
       "    .dataframe tbody tr th:only-of-type {\n",
       "        vertical-align: middle;\n",
       "    }\n",
       "\n",
       "    .dataframe tbody tr th {\n",
       "        vertical-align: top;\n",
       "    }\n",
       "\n",
       "    .dataframe thead th {\n",
       "        text-align: right;\n",
       "    }\n",
       "</style>\n",
       "<table border=\"1\" class=\"dataframe\">\n",
       "  <thead>\n",
       "    <tr style=\"text-align: right;\">\n",
       "      <th></th>\n",
       "      <th>name</th>\n",
       "      <th>length</th>\n",
       "      <th>start_date</th>\n",
       "      <th>line</th>\n",
       "    </tr>\n",
       "  </thead>\n",
       "  <tbody>\n",
       "    <tr>\n",
       "      <th>0</th>\n",
       "      <td>TramoCDDNS1</td>\n",
       "      <td>501</td>\n",
       "      <td>2018-10-23 17:50:45</td>\n",
       "      <td>[(-70.6127706553628,-33.4519419806409),(-70.61...</td>\n",
       "    </tr>\n",
       "    <tr>\n",
       "      <th>1</th>\n",
       "      <td>TramoCDDSN3</td>\n",
       "      <td>456</td>\n",
       "      <td>2018-10-23 17:50:45</td>\n",
       "      <td>[(-70.6094461440234,-33.457765692307),(-70.609...</td>\n",
       "    </tr>\n",
       "    <tr>\n",
       "      <th>2</th>\n",
       "      <td>TramoIraPO1</td>\n",
       "      <td>326</td>\n",
       "      <td>2018-10-23 17:50:45</td>\n",
       "      <td>[(-70.6123434771179,-33.453381198615),(-70.611...</td>\n",
       "    </tr>\n",
       "    <tr>\n",
       "      <th>3</th>\n",
       "      <td>TramoTresAntonioSN1</td>\n",
       "      <td>498</td>\n",
       "      <td>2018-10-23 17:50:45</td>\n",
       "      <td>[(-70.6039592431283,-33.4627181143719),(-70.60...</td>\n",
       "    </tr>\n",
       "    <tr>\n",
       "      <th>4</th>\n",
       "      <td>TramoTresAntoniosSN2</td>\n",
       "      <td>668</td>\n",
       "      <td>2018-10-23 17:50:45</td>\n",
       "      <td>[(-70.6031441496887,-33.4584726406213),(-70.60...</td>\n",
       "    </tr>\n",
       "  </tbody>\n",
       "</table>\n",
       "</div>"
      ],
      "text/plain": [
       "                   name  length          start_date  \\\n",
       "0           TramoCDDNS1     501 2018-10-23 17:50:45   \n",
       "1           TramoCDDSN3     456 2018-10-23 17:50:45   \n",
       "2           TramoIraPO1     326 2018-10-23 17:50:45   \n",
       "3   TramoTresAntonioSN1     498 2018-10-23 17:50:45   \n",
       "4  TramoTresAntoniosSN2     668 2018-10-23 17:50:45   \n",
       "\n",
       "                                                line  \n",
       "0  [(-70.6127706553628,-33.4519419806409),(-70.61...  \n",
       "1  [(-70.6094461440234,-33.457765692307),(-70.609...  \n",
       "2  [(-70.6123434771179,-33.453381198615),(-70.611...  \n",
       "3  [(-70.6039592431283,-33.4627181143719),(-70.60...  \n",
       "4  [(-70.6031441496887,-33.4584726406213),(-70.60...  "
      ]
     },
     "execution_count": 66,
     "metadata": {},
     "output_type": "execute_result"
    }
   ],
   "source": [
    "df_r_w.head()"
   ]
  },
  {
   "cell_type": "code",
   "execution_count": 63,
   "metadata": {},
   "outputs": [],
   "source": [
    "query_route = \"TramoIraPO2\""
   ]
  },
  {
   "cell_type": "code",
   "execution_count": 115,
   "metadata": {},
   "outputs": [],
   "source": [
    "def changing_line(x):\n",
    "    x = x.replace(\"[\",\"\")\n",
    "    x = x.replace(\"]\",\"\")\n",
    "    x = x.replace(\"(\",\"\")\n",
    "    x = x.replace(\")\",\"\")\n",
    "    return pd.Series(x.split(\",\"))\n",
    "            \n",
    "line = df_r_w.loc[df_r_w['name']==query_route, 'line'].apply(changing_line)\n",
    "\n",
    "line.columns = [np.arange(len(line.columns)) % 2, np.arange(len(line.columns)) // 2]\n",
    "line = line.stack().reset_index(drop=True)\n",
    "line.columns = ['lon','lat']\n",
    "\n",
    "lat = line.loc[:,'lat'].tolist()\n",
    "lon = line.loc[:,'lon'].tolist()"
   ]
  },
  {
   "cell_type": "code",
   "execution_count": 116,
   "metadata": {},
   "outputs": [
    {
     "data": {
      "text/plain": [
       "['-33.4537758673446',\n",
       " '-33.4539169832843',\n",
       " '-33.4539169832843',\n",
       " '-33.4542179730547',\n",
       " '-33.4542179730547',\n",
       " '-33.4542277520768']"
      ]
     },
     "execution_count": 116,
     "metadata": {},
     "output_type": "execute_result"
    }
   ],
   "source": [
    "lat"
   ]
  },
  {
   "cell_type": "code",
   "execution_count": 121,
   "metadata": {},
   "outputs": [
    {
     "data": {
      "text/plain": [
       "6"
      ]
     },
     "execution_count": 121,
     "metadata": {},
     "output_type": "execute_result"
    }
   ],
   "source": [
    "len(lat)"
   ]
  },
  {
   "cell_type": "code",
   "execution_count": 119,
   "metadata": {
    "scrolled": true
   },
   "outputs": [
    {
     "data": {
      "text/plain": [
       "'-33.4537758673446'"
      ]
     },
     "execution_count": 119,
     "metadata": {},
     "output_type": "execute_result"
    }
   ],
   "source": [
    "lat[0]"
   ]
  },
  {
   "cell_type": "code",
   "execution_count": 117,
   "metadata": {
    "scrolled": true
   },
   "outputs": [
    {
     "data": {
      "text/plain": [
       "['-70.6088542208833',\n",
       " '-70.6076589033484',\n",
       " '-70.6076589033484',\n",
       " '-70.604948531139',\n",
       " '-70.604948531139',\n",
       " '-70.6048413802846']"
      ]
     },
     "execution_count": 117,
     "metadata": {},
     "output_type": "execute_result"
    }
   ],
   "source": [
    "lon"
   ]
  },
  {
   "cell_type": "code",
   "execution_count": 93,
   "metadata": {},
   "outputs": [
    {
     "data": {
      "text/plain": [
       "str"
      ]
     },
     "execution_count": 93,
     "metadata": {},
     "output_type": "execute_result"
    }
   ],
   "source": [
    "type(line[8])"
   ]
  },
  {
   "cell_type": "code",
   "execution_count": 110,
   "metadata": {},
   "outputs": [
    {
     "data": {
      "text/plain": [
       "['[-70.6088542208833',\n",
       " '-33.4537758673446][-70.6076589033484',\n",
       " '-33.4539169832843][-70.6076589033484',\n",
       " '-33.4539169832843][-70.604948531139',\n",
       " '-33.4542179730547][-70.604948531139',\n",
       " '-33.4542179730547][-70.6048413802846',\n",
       " '-33.4542277520768)']"
      ]
     },
     "execution_count": 110,
     "metadata": {},
     "output_type": "execute_result"
    }
   ],
   "source": [
    "line[8]"
   ]
  },
  {
   "cell_type": "code",
   "execution_count": 124,
   "metadata": {},
   "outputs": [],
   "source": [
    "geojson_dict = {\"id\": \"route\", \n",
    "                        \"type\": \"line\",\n",
    "                        \"source\":{\n",
    "                            \"type\": \"geojson\",\n",
    "                            \"data\": {\n",
    "                                \"type\": \"Feature\",\n",
    "                                \"geometry\": {\n",
    "                                    \"type\": \"LineString\",\n",
    "                                    \"coordinates\": [[float(lat[x]), float(lon[x])] for x in range(0,len(lat))]\n",
    "                                }\n",
    "                            }\n",
    "                        }}"
   ]
  },
  {
   "cell_type": "code",
   "execution_count": null,
   "metadata": {},
   "outputs": [],
   "source": [
    "[{'label': i, 'value': i}\n",
    "                     for i in df_w['name'].unique()]"
   ]
  },
  {
   "cell_type": "code",
   "execution_count": 125,
   "metadata": {},
   "outputs": [
    {
     "data": {
      "text/plain": [
       "{'id': 'route',\n",
       " 'type': 'line',\n",
       " 'source': {'type': 'geojson',\n",
       "  'data': {'type': 'Feature',\n",
       "   'geometry': {'type': 'LineString',\n",
       "    'coordinates': [[-33.4537758673446, -70.6088542208833],\n",
       "     [-33.4539169832843, -70.6076589033484],\n",
       "     [-33.4539169832843, -70.6076589033484],\n",
       "     [-33.4542179730547, -70.604948531139],\n",
       "     [-33.4542179730547, -70.604948531139],\n",
       "     [-33.4542277520768, -70.6048413802846]]}}}}"
      ]
     },
     "execution_count": 125,
     "metadata": {},
     "output_type": "execute_result"
    }
   ],
   "source": [
    "geojson_dict"
   ]
  }
 ],
 "metadata": {
  "kernelspec": {
   "display_name": "Python 3",
   "language": "python",
   "name": "python3"
  },
  "language_info": {
   "codemirror_mode": {
    "name": "ipython",
    "version": 3
   },
   "file_extension": ".py",
   "mimetype": "text/x-python",
   "name": "python",
   "nbconvert_exporter": "python",
   "pygments_lexer": "ipython3",
   "version": "3.7.0"
  }
 },
 "nbformat": 4,
 "nbformat_minor": 2
}
