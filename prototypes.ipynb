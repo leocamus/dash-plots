{
 "cells": [
  {
   "cell_type": "code",
   "execution_count": 1,
   "metadata": {},
   "outputs": [],
   "source": [
    "import datetime as dt"
   ]
  },
  {
   "cell_type": "code",
   "execution_count": 4,
   "metadata": {},
   "outputs": [],
   "source": [
    "from retrieve_data_tmp import *"
   ]
  },
  {
   "cell_type": "code",
   "execution_count": 5,
   "metadata": {},
   "outputs": [],
   "source": [
    "df_tt = assemble_data('29.10.2018')[0]"
   ]
  },
  {
   "cell_type": "code",
   "execution_count": 6,
   "metadata": {},
   "outputs": [
    {
     "data": {
      "text/html": [
       "<div>\n",
       "<style scoped>\n",
       "    .dataframe tbody tr th:only-of-type {\n",
       "        vertical-align: middle;\n",
       "    }\n",
       "\n",
       "    .dataframe tbody tr th {\n",
       "        vertical-align: top;\n",
       "    }\n",
       "\n",
       "    .dataframe thead th {\n",
       "        text-align: right;\n",
       "    }\n",
       "</style>\n",
       "<table border=\"1\" class=\"dataframe\">\n",
       "  <thead>\n",
       "    <tr style=\"text-align: right;\">\n",
       "      <th></th>\n",
       "      <th>name</th>\n",
       "      <th>time</th>\n",
       "      <th>historictime</th>\n",
       "      <th>jamlevel</th>\n",
       "      <th>updatetime</th>\n",
       "      <th>jams</th>\n",
       "      <th>alerts</th>\n",
       "      <th>updatetime_stgo</th>\n",
       "      <th>date_ext</th>\n",
       "      <th>time_ext</th>\n",
       "      <th>length</th>\n",
       "      <th>time/length</th>\n",
       "    </tr>\n",
       "  </thead>\n",
       "  <tbody>\n",
       "    <tr>\n",
       "      <th>0</th>\n",
       "      <td>TramoCDDNS1</td>\n",
       "      <td>146</td>\n",
       "      <td>137</td>\n",
       "      <td>2</td>\n",
       "      <td>2018-10-23 17:50:45</td>\n",
       "      <td>{}</td>\n",
       "      <td>{}</td>\n",
       "      <td>2018-10-23 14:50:45</td>\n",
       "      <td>2018-10-23</td>\n",
       "      <td>14:50:45</td>\n",
       "      <td>501</td>\n",
       "      <td>291.417166</td>\n",
       "    </tr>\n",
       "    <tr>\n",
       "      <th>1</th>\n",
       "      <td>TramoCDDSN3</td>\n",
       "      <td>154</td>\n",
       "      <td>163</td>\n",
       "      <td>2</td>\n",
       "      <td>2018-10-23 17:50:45</td>\n",
       "      <td>{}</td>\n",
       "      <td>{}</td>\n",
       "      <td>2018-10-23 14:50:45</td>\n",
       "      <td>2018-10-23</td>\n",
       "      <td>14:50:45</td>\n",
       "      <td>456</td>\n",
       "      <td>337.719298</td>\n",
       "    </tr>\n",
       "    <tr>\n",
       "      <th>2</th>\n",
       "      <td>TramoIraPO1</td>\n",
       "      <td>77</td>\n",
       "      <td>88</td>\n",
       "      <td>1</td>\n",
       "      <td>2018-10-23 17:50:45</td>\n",
       "      <td>{}</td>\n",
       "      <td>{}</td>\n",
       "      <td>2018-10-23 14:50:45</td>\n",
       "      <td>2018-10-23</td>\n",
       "      <td>14:50:45</td>\n",
       "      <td>326</td>\n",
       "      <td>236.196319</td>\n",
       "    </tr>\n",
       "    <tr>\n",
       "      <th>3</th>\n",
       "      <td>TramoTresAntonioSN1</td>\n",
       "      <td>50</td>\n",
       "      <td>74</td>\n",
       "      <td>0</td>\n",
       "      <td>2018-10-23 17:50:45</td>\n",
       "      <td>{}</td>\n",
       "      <td>{}</td>\n",
       "      <td>2018-10-23 14:50:45</td>\n",
       "      <td>2018-10-23</td>\n",
       "      <td>14:50:45</td>\n",
       "      <td>498</td>\n",
       "      <td>100.401606</td>\n",
       "    </tr>\n",
       "    <tr>\n",
       "      <th>4</th>\n",
       "      <td>TramoTresAntoniosSN2</td>\n",
       "      <td>161</td>\n",
       "      <td>173</td>\n",
       "      <td>0</td>\n",
       "      <td>2018-10-23 17:50:45</td>\n",
       "      <td>{}</td>\n",
       "      <td>{}</td>\n",
       "      <td>2018-10-23 14:50:45</td>\n",
       "      <td>2018-10-23</td>\n",
       "      <td>14:50:45</td>\n",
       "      <td>668</td>\n",
       "      <td>241.017964</td>\n",
       "    </tr>\n",
       "  </tbody>\n",
       "</table>\n",
       "</div>"
      ],
      "text/plain": [
       "                   name  time  historictime  jamlevel          updatetime  \\\n",
       "0           TramoCDDNS1   146           137         2 2018-10-23 17:50:45   \n",
       "1           TramoCDDSN3   154           163         2 2018-10-23 17:50:45   \n",
       "2           TramoIraPO1    77            88         1 2018-10-23 17:50:45   \n",
       "3   TramoTresAntonioSN1    50            74         0 2018-10-23 17:50:45   \n",
       "4  TramoTresAntoniosSN2   161           173         0 2018-10-23 17:50:45   \n",
       "\n",
       "  jams alerts     updatetime_stgo    date_ext  time_ext  length  time/length  \n",
       "0   {}     {} 2018-10-23 14:50:45  2018-10-23  14:50:45     501   291.417166  \n",
       "1   {}     {} 2018-10-23 14:50:45  2018-10-23  14:50:45     456   337.719298  \n",
       "2   {}     {} 2018-10-23 14:50:45  2018-10-23  14:50:45     326   236.196319  \n",
       "3   {}     {} 2018-10-23 14:50:45  2018-10-23  14:50:45     498   100.401606  \n",
       "4   {}     {} 2018-10-23 14:50:45  2018-10-23  14:50:45     668   241.017964  "
      ]
     },
     "execution_count": 6,
     "metadata": {},
     "output_type": "execute_result"
    }
   ],
   "source": [
    "df_tt.head()"
   ]
  },
  {
   "cell_type": "code",
   "execution_count": 7,
   "metadata": {},
   "outputs": [
    {
     "data": {
      "text/plain": [
       "Timestamp('2018-10-23 17:50:45')"
      ]
     },
     "execution_count": 7,
     "metadata": {},
     "output_type": "execute_result"
    }
   ],
   "source": [
    "df_tt.loc[0,'updatetime']"
   ]
  },
  {
   "cell_type": "code",
   "execution_count": null,
   "metadata": {},
   "outputs": [],
   "source": [
    "df_tt.iloc[0,0]"
   ]
  },
  {
   "cell_type": "code",
   "execution_count": null,
   "metadata": {},
   "outputs": [],
   "source": [
    "df_tt.iloc[0,8]"
   ]
  },
  {
   "cell_type": "code",
   "execution_count": null,
   "metadata": {},
   "outputs": [],
   "source": [
    "type(df_tt.loc[4420,'updatetime'])"
   ]
  },
  {
   "cell_type": "code",
   "execution_count": null,
   "metadata": {},
   "outputs": [],
   "source": [
    "grouped_df_tt = df_tt.groupby([\"name\", pd.Grouper(freq=\"15min\", key=\"updatetime_stgo\")])['time'].mean().to_frame()"
   ]
  },
  {
   "cell_type": "code",
   "execution_count": null,
   "metadata": {},
   "outputs": [],
   "source": [
    "grouped_df_tt.reset_index(inplace=True)"
   ]
  },
  {
   "cell_type": "code",
   "execution_count": null,
   "metadata": {},
   "outputs": [],
   "source": [
    "grouped_df_tt.head()"
   ]
  },
  {
   "cell_type": "code",
   "execution_count": null,
   "metadata": {},
   "outputs": [],
   "source": [
    "df_tt.loc[(df_tt['name']=='Av. Costanera Andres Bello Providencia')\n",
    "          &(df_tt['date_ext']==dt.date(2018,10,20)),['time', 'updatetime_stgo']].head(10)"
   ]
  },
  {
   "cell_type": "code",
   "execution_count": null,
   "metadata": {},
   "outputs": [],
   "source": [
    "1868.0 + 1894.0 + 1923.0"
   ]
  },
  {
   "cell_type": "code",
   "execution_count": null,
   "metadata": {},
   "outputs": [],
   "source": [
    "1939.0 + 1899.0"
   ]
  },
  {
   "cell_type": "code",
   "execution_count": null,
   "metadata": {},
   "outputs": [],
   "source": [
    "1867.0 + 1890.0 + 1906.0"
   ]
  },
  {
   "cell_type": "code",
   "execution_count": null,
   "metadata": {},
   "outputs": [],
   "source": [
    "type(df_tt.iloc[0,0]) == str"
   ]
  },
  {
   "cell_type": "code",
   "execution_count": null,
   "metadata": {},
   "outputs": [],
   "source": []
  }
 ],
 "metadata": {
  "kernelspec": {
   "display_name": "Python 3",
   "language": "python",
   "name": "python3"
  },
  "language_info": {
   "codemirror_mode": {
    "name": "ipython",
    "version": 3
   },
   "file_extension": ".py",
   "mimetype": "text/x-python",
   "name": "python",
   "nbconvert_exporter": "python",
   "pygments_lexer": "ipython3",
   "version": "3.7.0"
  }
 },
 "nbformat": 4,
 "nbformat_minor": 2
}
